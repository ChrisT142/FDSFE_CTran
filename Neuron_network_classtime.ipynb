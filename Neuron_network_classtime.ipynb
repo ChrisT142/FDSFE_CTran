{
  "nbformat": 4,
  "nbformat_minor": 0,
  "metadata": {
    "colab": {
      "provenance": [],
      "authorship_tag": "ABX9TyMxiCH42UJuQawiyRes/Rlt",
      "include_colab_link": true
    },
    "kernelspec": {
      "name": "python3",
      "display_name": "Python 3"
    },
    "language_info": {
      "name": "python"
    }
  },
  "cells": [
    {
      "cell_type": "markdown",
      "metadata": {
        "id": "view-in-github",
        "colab_type": "text"
      },
      "source": [
        "<a href=\"https://colab.research.google.com/github/ChrisT142/FDSFE_CTran/blob/main/Neuron_network_classtime.ipynb\" target=\"_parent\"><img src=\"https://colab.research.google.com/assets/colab-badge.svg\" alt=\"Open In Colab\"/></a>"
      ]
    },
    {
      "cell_type": "code",
      "execution_count": 1,
      "metadata": {
        "id": "RVSllxJ-x8Gx"
      },
      "outputs": [],
      "source": [
        "import numpy as np\n",
        "import pylab as plt"
      ]
    },
    {
      "cell_type": "code",
      "source": [
        "x1 = np.array([0.1, 0.2, 0])\n",
        "x2 = np.array([0.6, 0.2, 0.3])\n",
        "x3 = np.array([0.2, 0.4, 0.1])"
      ],
      "metadata": {
        "id": "585c9i0ayFw_"
      },
      "execution_count": 3,
      "outputs": []
    },
    {
      "cell_type": "code",
      "source": [
        "y = np.array([1, 0, 0])"
      ],
      "metadata": {
        "id": "vl4tHWDnyZJI"
      },
      "execution_count": 4,
      "outputs": []
    },
    {
      "cell_type": "code",
      "source": [
        "theta ="
      ],
      "metadata": {
        "id": "7X8ZpH4MytiC"
      },
      "execution_count": null,
      "outputs": []
    },
    {
      "cell_type": "markdown",
      "source": [
        "**Loss Function**"
      ],
      "metadata": {
        "id": "yz9-jv0Wz1ID"
      }
    },
    {
      "cell_type": "code",
      "source": [
        "def loss(pred, true):\n",
        "  return np.sum(np.abs(pred - true))\n"
      ],
      "metadata": {
        "id": "QoI6sKKXy_gW"
      },
      "execution_count": 5,
      "outputs": []
    },
    {
      "cell_type": "code",
      "source": [
        "loss(3,5)"
      ],
      "metadata": {
        "colab": {
          "base_uri": "https://localhost:8080/"
        },
        "id": "Vi0UDuQnznqP",
        "outputId": "f5a4fed8-a00d-49df-850d-384541d6d323"
      },
      "execution_count": 6,
      "outputs": [
        {
          "output_type": "execute_result",
          "data": {
            "text/plain": [
              "2"
            ]
          },
          "metadata": {},
          "execution_count": 6
        }
      ]
    },
    {
      "cell_type": "code",
      "source": [
        "loss(x1,x2)"
      ],
      "metadata": {
        "colab": {
          "base_uri": "https://localhost:8080/"
        },
        "id": "_5LZfqR7zsO9",
        "outputId": "1e646463-9fad-45ea-e6fe-50f0d1d31f97"
      },
      "execution_count": 7,
      "outputs": [
        {
          "output_type": "execute_result",
          "data": {
            "text/plain": [
              "0.8"
            ]
          },
          "metadata": {},
          "execution_count": 7
        }
      ]
    },
    {
      "cell_type": "code",
      "source": [
        "def mpneuron(theta, x1, x2, x3):\n",
        "    if np.sum([x1, x2, x3]) >= theta:\n",
        "      return 1\n",
        "    return 0"
      ],
      "metadata": {
        "id": "J6DDJ3bbz8h_"
      },
      "execution_count": 8,
      "outputs": []
    },
    {
      "cell_type": "code",
      "source": [
        "mpneuron(1, 1, 2, 3)"
      ],
      "metadata": {
        "colab": {
          "base_uri": "https://localhost:8080/"
        },
        "id": "hFqngRIS0y5M",
        "outputId": "65342f32-a920-45b0-b9ef-610f0c2fd339"
      },
      "execution_count": 9,
      "outputs": [
        {
          "output_type": "execute_result",
          "data": {
            "text/plain": [
              "1"
            ]
          },
          "metadata": {},
          "execution_count": 9
        }
      ]
    },
    {
      "cell_type": "code",
      "source": [
        "mpneuron(1, 0, 0, 0)"
      ],
      "metadata": {
        "colab": {
          "base_uri": "https://localhost:8080/"
        },
        "id": "HBknlvel0yqy",
        "outputId": "0f0ed1b7-b075-4957-cfb0-9a4bf013792a"
      },
      "execution_count": 10,
      "outputs": [
        {
          "output_type": "execute_result",
          "data": {
            "text/plain": [
              "0"
            ]
          },
          "metadata": {},
          "execution_count": 10
        }
      ]
    },
    {
      "cell_type": "code",
      "source": [
        "losses_full = []\n",
        "for theta in np.arange(0,3,0.1):\n",
        "  losses_theta = []\n",
        "  for num in range(0,3):\n",
        "    result = mpneuron(theta,x1[num], x2[num], x3[num])\n",
        "    losses_theta.append(loss(result, y[num]))\n",
        "  loss_sum = np.sum(losses_theta)\n",
        "  losses_full.append(loss_sum)"
      ],
      "metadata": {
        "id": "MDx8jk700_JJ"
      },
      "execution_count": 24,
      "outputs": []
    },
    {
      "cell_type": "code",
      "source": [
        "print(losses_full)"
      ],
      "metadata": {
        "colab": {
          "base_uri": "https://localhost:8080/"
        },
        "id": "_PDU4y9V2yMi",
        "outputId": "829c724f-2242-4144-a2e3-43ed9bcafe1f"
      },
      "execution_count": 26,
      "outputs": [
        {
          "output_type": "stream",
          "name": "stdout",
          "text": [
            "[2, 2, 2, 2, 2, 1, 1, 1, 1, 1, 1, 1, 1, 1, 1, 1, 1, 1, 1, 1, 1, 1, 1, 1, 1, 1, 1, 1, 1, 1]\n"
          ]
        }
      ]
    }
  ]
}